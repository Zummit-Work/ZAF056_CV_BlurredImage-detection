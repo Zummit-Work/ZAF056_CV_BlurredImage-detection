{
 "cells": [
  {
   "cell_type": "markdown",
   "id": "842dfbe8",
   "metadata": {},
   "source": [
    "# (2) CV WINTER 2023 - Blurred Image Detection via Supervised Learning\n",
    "\n",
    "### Project Description\n",
    "There is a dataset of images, par of which is blurred. The task is to develop a machine learning algorithm to detect whether the image is blurred or sharp on the unknown dataset.\n",
    "\n",
    "### Data Description\n",
    "The dataset consists of images, and some of them are blurred. The images are blurred using augmentation.\n",
    "\n",
    "Data files:\n",
    "- ```train``` - a folder for training\n",
    "- ```test``` - a folder with images, for which we make predicitons\n",
    "- ```train.csv``` - labels (answers) to the train sample: **if 1, the image is blurred.**\n",
    "\n",
    "### Papers:\n",
    "- https://jiaya.me/all_final_papers/blur_detect_cvpr08.pdf\n",
    "- https://fled.github.io/paper/blur.pdf\n",
    "- http://graphics.im.ntu.edu.tw/docs/mmm08.pdf\n"
   ]
  },
  {
   "cell_type": "code",
   "execution_count": 12,
   "id": "c3b551f2",
   "metadata": {},
   "outputs": [
    {
     "name": "stdout",
     "output_type": "stream",
     "text": [
      "4.7.0\n"
     ]
    }
   ],
   "source": [
    "import matplotlib.pyplot as plt\n",
    "import numpy as np\n",
    "import pandas as pd\n",
    "import os\n",
    "import cv2\n",
    "\n",
    "from keras.preprocessing import image\n",
    "from sklearn import svm\n",
    "from sklearn.utils import shuffle\n",
    "from sklearn.model_selection import train_test_split\n",
    "from tensorflow.keras.layers import Input, Conv2D, Dense, Flatten, Dropout, Activation\n",
    "from tensorflow.keras.layers import GlobalMaxPooling2D, MaxPooling2D\n",
    "from tensorflow.keras.layers import BatchNormalization\n",
    "from tensorflow.keras.preprocessing.image import ImageDataGenerator\n",
    "from tensorflow.keras.models import Model\n",
    "from tensorflow.keras import layers\n",
    "from tensorflow.keras.layers import GlobalAveragePooling2D, Dense\n",
    "from tensorflow.keras.models import Sequential\n",
    "from tensorflow.keras.optimizers import Adam\n",
    "\n",
    "import warnings\n",
    "warnings.simplefilter(\"ignore\")\n",
    "\n",
    "# show the version of tf\n",
    "print(cv2.__version__)"
   ]
  },
  {
   "cell_type": "markdown",
   "id": "eddb5784",
   "metadata": {},
   "source": [
    "## 1 Data Load"
   ]
  },
  {
   "cell_type": "markdown",
   "id": "bb5bd6b3",
   "metadata": {},
   "source": [
    "### 1.1 Loading images and labels from given datasets"
   ]
  },
  {
   "cell_type": "code",
   "execution_count": 13,
   "id": "c80ba948",
   "metadata": {
    "scrolled": false
   },
   "outputs": [
    {
     "data": {
      "text/html": [
       "<div>\n",
       "<style scoped>\n",
       "    .dataframe tbody tr th:only-of-type {\n",
       "        vertical-align: middle;\n",
       "    }\n",
       "\n",
       "    .dataframe tbody tr th {\n",
       "        vertical-align: top;\n",
       "    }\n",
       "\n",
       "    .dataframe thead th {\n",
       "        text-align: right;\n",
       "    }\n",
       "</style>\n",
       "<table border=\"1\" class=\"dataframe\">\n",
       "  <thead>\n",
       "    <tr style=\"text-align: right;\">\n",
       "      <th></th>\n",
       "      <th>filename</th>\n",
       "      <th>blur</th>\n",
       "    </tr>\n",
       "  </thead>\n",
       "  <tbody>\n",
       "    <tr>\n",
       "      <th>0</th>\n",
       "      <td>kagouracdzwrjjxzzedi.jpg</td>\n",
       "      <td>0.0</td>\n",
       "    </tr>\n",
       "    <tr>\n",
       "      <th>1</th>\n",
       "      <td>ahnamimqdfqoqdnozabc.jpg</td>\n",
       "      <td>0.0</td>\n",
       "    </tr>\n",
       "    <tr>\n",
       "      <th>2</th>\n",
       "      <td>gwhdadvghuzinmzhzssx.jpg</td>\n",
       "      <td>0.0</td>\n",
       "    </tr>\n",
       "    <tr>\n",
       "      <th>3</th>\n",
       "      <td>onqwabwwckubrydgbzly.jpg</td>\n",
       "      <td>0.0</td>\n",
       "    </tr>\n",
       "    <tr>\n",
       "      <th>4</th>\n",
       "      <td>ewpqdruddbokqyzzupcw.jpg</td>\n",
       "      <td>1.0</td>\n",
       "    </tr>\n",
       "  </tbody>\n",
       "</table>\n",
       "</div>"
      ],
      "text/plain": [
       "                   filename  blur\n",
       "0  kagouracdzwrjjxzzedi.jpg   0.0\n",
       "1  ahnamimqdfqoqdnozabc.jpg   0.0\n",
       "2  gwhdadvghuzinmzhzssx.jpg   0.0\n",
       "3  onqwabwwckubrydgbzly.jpg   0.0\n",
       "4  ewpqdruddbokqyzzupcw.jpg   1.0"
      ]
     },
     "execution_count": 13,
     "metadata": {},
     "output_type": "execute_result"
    }
   ],
   "source": [
    "labels = pd.read_csv('/Users/yuliabezginova/PycharmProjects/00_files-for_NLP/shift-cv-winter-2023/train.csv')\n",
    "labels.head()"
   ]
  },
  {
   "cell_type": "code",
   "execution_count": 14,
   "id": "97449148",
   "metadata": {},
   "outputs": [
    {
     "name": "stdout",
     "output_type": "stream",
     "text": [
      "Found 2579 images belonging to 2 classes.\n",
      "Found 859 images belonging to 2 classes.\n"
     ]
    }
   ],
   "source": [
    "train_datagen = ImageDataGenerator(\n",
    "    validation_split=0.25,\n",
    "    rescale=1./255,\n",
    "    horizontal_flip=True,\n",
    "    vertical_flip=True,\n",
    "    rotation_range=90,\n",
    "    width_shift_range=0.2,\n",
    "    height_shift_range=0.2\n",
    ")\n",
    "\n",
    "validation_datagen = ImageDataGenerator(\n",
    "    validation_split=0.25,\n",
    "    rescale=1./255)\n",
    "\n",
    "# Чтобы загрузчик извлёк данные из папки, вызовем функцию \n",
    "# flow_from_directory() (англ. «поток из директории»):\n",
    "\n",
    "train_datagen_flow = train_datagen.flow_from_directory(\n",
    "    '/Users/yuliabezginova/PycharmProjects/00_files-for_NLP/shift-cv-winter-2023/',\n",
    "    target_size=(150, 150),\n",
    "    batch_size=16,\n",
    "    class_mode='sparse',\n",
    "    subset='training',\n",
    "    seed=12345)\n",
    "\n",
    "val_datagen_flow = validation_datagen.flow_from_directory(\n",
    "    '/Users/yuliabezginova/PycharmProjects/00_files-for_NLP/shift-cv-winter-2023/',\n",
    "    target_size=(150, 150),\n",
    "    batch_size=16,\n",
    "    class_mode='sparse',\n",
    "    subset='validation',\n",
    "    seed=12345)"
   ]
  },
  {
   "cell_type": "markdown",
   "id": "ccbcd7f2",
   "metadata": {},
   "source": [
    "### 1.2 Exploratory Data Analysis"
   ]
  },
  {
   "cell_type": "markdown",
   "id": "28cb3193",
   "metadata": {},
   "source": [
    "#### 1.2.1 Understanding the variables type, labels structure, number of target classes."
   ]
  },
  {
   "cell_type": "code",
   "execution_count": 15,
   "id": "b83bed83",
   "metadata": {},
   "outputs": [
    {
     "name": "stdout",
     "output_type": "stream",
     "text": [
      "<class 'pandas.core.frame.DataFrame'>\n",
      "RangeIndex: 2664 entries, 0 to 2663\n",
      "Data columns (total 2 columns):\n",
      " #   Column    Non-Null Count  Dtype  \n",
      "---  ------    --------------  -----  \n",
      " 0   filename  2664 non-null   object \n",
      " 1   blur      2664 non-null   float64\n",
      "dtypes: float64(1), object(1)\n",
      "memory usage: 41.8+ KB\n"
     ]
    }
   ],
   "source": [
    "labels.info()"
   ]
  },
  {
   "cell_type": "code",
   "execution_count": 16,
   "id": "c87a7e9e",
   "metadata": {},
   "outputs": [
    {
     "data": {
      "text/plain": [
       "array([0., 1.])"
      ]
     },
     "execution_count": 16,
     "metadata": {},
     "output_type": "execute_result"
    }
   ],
   "source": [
    "labels['blur'].unique()"
   ]
  },
  {
   "cell_type": "code",
   "execution_count": 17,
   "id": "b62b4d97",
   "metadata": {},
   "outputs": [
    {
     "name": "stdout",
     "output_type": "stream",
     "text": [
      "2664\n"
     ]
    }
   ],
   "source": [
    "print(len(labels))"
   ]
  },
  {
   "cell_type": "markdown",
   "id": "657f8e7e",
   "metadata": {},
   "source": [
    "#### 1.2.2 Descriptive statistics of labels"
   ]
  },
  {
   "cell_type": "code",
   "execution_count": 18,
   "id": "f493623a",
   "metadata": {},
   "outputs": [
    {
     "data": {
      "text/html": [
       "<div>\n",
       "<style scoped>\n",
       "    .dataframe tbody tr th:only-of-type {\n",
       "        vertical-align: middle;\n",
       "    }\n",
       "\n",
       "    .dataframe tbody tr th {\n",
       "        vertical-align: top;\n",
       "    }\n",
       "\n",
       "    .dataframe thead th {\n",
       "        text-align: right;\n",
       "    }\n",
       "</style>\n",
       "<table border=\"1\" class=\"dataframe\">\n",
       "  <thead>\n",
       "    <tr style=\"text-align: right;\">\n",
       "      <th></th>\n",
       "      <th>count</th>\n",
       "      <th>mean</th>\n",
       "      <th>std</th>\n",
       "      <th>min</th>\n",
       "      <th>25%</th>\n",
       "      <th>50%</th>\n",
       "      <th>75%</th>\n",
       "      <th>max</th>\n",
       "    </tr>\n",
       "  </thead>\n",
       "  <tbody>\n",
       "    <tr>\n",
       "      <th>blur</th>\n",
       "      <td>2664.0</td>\n",
       "      <td>0.486862</td>\n",
       "      <td>0.499921</td>\n",
       "      <td>0.0</td>\n",
       "      <td>0.0</td>\n",
       "      <td>0.0</td>\n",
       "      <td>1.0</td>\n",
       "      <td>1.0</td>\n",
       "    </tr>\n",
       "  </tbody>\n",
       "</table>\n",
       "</div>"
      ],
      "text/plain": [
       "       count      mean       std  min  25%  50%  75%  max\n",
       "blur  2664.0  0.486862  0.499921  0.0  0.0  0.0  1.0  1.0"
      ]
     },
     "execution_count": 18,
     "metadata": {},
     "output_type": "execute_result"
    }
   ],
   "source": [
    "labels.describe().T"
   ]
  },
  {
   "cell_type": "code",
   "execution_count": 19,
   "id": "5a2af4f4",
   "metadata": {},
   "outputs": [
    {
     "data": {
      "image/png": "[encoded data removed]",
      "text/plain": [
       "<Figure size 640x480 with 1 Axes>"
      ]
     },
     "metadata": {},
     "output_type": "display_data"
    }
   ],
   "source": [
    "labels['blur'].hist(bins=100);"
   ]
  },
  {
   "cell_type": "markdown",
   "id": "c83ba529",
   "metadata": {},
   "source": [
    "#### 1.2.3 Checking the target value for missing and duplicates"
   ]
  },
  {
   "cell_type": "code",
   "execution_count": 20,
   "id": "8e049ca5",
   "metadata": {},
   "outputs": [
    {
     "data": {
      "text/plain": [
       "filename    0\n",
       "blur        0\n",
       "dtype: int64"
      ]
     },
     "execution_count": 20,
     "metadata": {},
     "output_type": "execute_result"
    }
   ],
   "source": [
    "labels.isna().sum()"
   ]
  },
  {
   "cell_type": "code",
   "execution_count": 21,
   "id": "d0b34aa9",
   "metadata": {},
   "outputs": [
    {
     "data": {
      "text/plain": [
       "0"
      ]
     },
     "execution_count": 21,
     "metadata": {},
     "output_type": "execute_result"
    }
   ],
   "source": [
    "labels.duplicated().sum()"
   ]
  },
  {
   "cell_type": "markdown",
   "id": "d0e597a7",
   "metadata": {},
   "source": [
    "#### 1.2.4  Checking the target value for disbalance"
   ]
  },
  {
   "cell_type": "code",
   "execution_count": 22,
   "id": "0af89820",
   "metadata": {},
   "outputs": [],
   "source": [
    "labels_df = pd.DataFrame(labels)"
   ]
  },
  {
   "cell_type": "code",
   "execution_count": 23,
   "id": "f1b50f91",
   "metadata": {},
   "outputs": [
    {
     "data": {
      "text/plain": [
       "0.0    1367\n",
       "1.0    1297\n",
       "Name: blur, dtype: int64"
      ]
     },
     "execution_count": 23,
     "metadata": {},
     "output_type": "execute_result"
    }
   ],
   "source": [
    "labels_df['blur'].value_counts()"
   ]
  },
  {
   "cell_type": "code",
   "execution_count": 24,
   "id": "3f60c67a",
   "metadata": {},
   "outputs": [
    {
     "name": "stdout",
     "output_type": "stream",
     "text": [
      "Blur images: 1297\n",
      "Sharp images: 1367\n"
     ]
    }
   ],
   "source": [
    "train_blur = labels[labels[\"blur\"]==1]\n",
    "train_sharp = labels[labels[\"blur\"]==0]\n",
    "\n",
    "print(\"Blur images:\", len(train_blur))\n",
    "print(\"Sharp images:\", len(train_sharp))"
   ]
  },
  {
   "cell_type": "markdown",
   "id": "dfc92fad",
   "metadata": {},
   "source": [
    "### ***Conclusion:*** Type of variable in the target values is ```float64``` with two unique values - 0, 1. This is fine for solving classification problem, but the target should be converted into ```string``` type. Number of observations if 2664. The target dataset is balanced."
   ]
  },
  {
   "cell_type": "markdown",
   "id": "d184a07a",
   "metadata": {},
   "source": [
    "## 2 Constructing CNN models"
   ]
  },
  {
   "cell_type": "code",
   "execution_count": 25,
   "id": "865f9a11",
   "metadata": {},
   "outputs": [],
   "source": [
    "path = '/Users/yuliabezginova/PycharmProjects/00_files-for_NLP/shift-cv-winter-2023/'"
   ]
  },
  {
   "cell_type": "code",
   "execution_count": 26,
   "id": "35803395",
   "metadata": {},
   "outputs": [],
   "source": [
    "def load_train(path):\n",
    "    labels = pd.read_csv(path + 'train.csv')\n",
    "    train_datagen = ImageDataGenerator(validation_split=0.25, horizontal_flip=True, rescale=1./255)\n",
    "    train_gen_flow = train_datagen.flow_from_dataframe(\n",
    "        dataframe=labels,\n",
    "        directory=path + 'train/train/',\n",
    "        x_col='filename',\n",
    "        y_col='blur',\n",
    "        target_size=(96, 96),\n",
    "        batch_size=32,\n",
    "        class_mode='raw',\n",
    "        subset='training',\n",
    "        seed=5)\n",
    "\n",
    "    return train_gen_flow\n",
    "\n",
    "\n",
    "def load_test(path):\n",
    "    labels = pd.read_csv(path + 'train.csv')\n",
    "    test_datagen = ImageDataGenerator(validation_split=0.25, rescale=1./255)\n",
    "    test_gen_flow = test_datagen.flow_from_dataframe(\n",
    "        dataframe=labels,\n",
    "        directory=path + 'train/train/',\n",
    "        x_col='filename',\n",
    "        y_col='blur',\n",
    "        target_size=(96, 96),\n",
    "        batch_size=32,\n",
    "        class_mode='raw',\n",
    "        subset='validation',\n",
    "        seed=5)\n",
    "\n",
    "    return test_gen_flow"
   ]
  },
  {
   "cell_type": "code",
   "execution_count": 27,
   "id": "a2fa55be",
   "metadata": {},
   "outputs": [
    {
     "name": "stdout",
     "output_type": "stream",
     "text": [
      "Found 1998 validated image filenames.\n"
     ]
    }
   ],
   "source": [
    "train = load_train(path)"
   ]
  },
  {
   "cell_type": "code",
   "execution_count": 28,
   "id": "e89097af",
   "metadata": {},
   "outputs": [
    {
     "name": "stdout",
     "output_type": "stream",
     "text": [
      "Found 666 validated image filenames.\n"
     ]
    }
   ],
   "source": [
    "valid = load_test(path)"
   ]
  },
  {
   "cell_type": "code",
   "execution_count": 29,
   "id": "bddd1c79",
   "metadata": {},
   "outputs": [],
   "source": [
    "from tensorflow.keras.applications.resnet import ResNet50"
   ]
  },
  {
   "cell_type": "code",
   "execution_count": 30,
   "id": "cd3465f6",
   "metadata": {},
   "outputs": [],
   "source": [
    "def create_model_ResNet50(input_shape):    \n",
    "    backbone = ResNet50(input_shape=input_shape,\n",
    "                    weights='imagenet', \n",
    "                    include_top=False)\n",
    "    \n",
    "#     замораживаем ResNet50 без верхушки\n",
    "#     backbone.trainable = False\n",
    "\n",
    "    model = Sequential()\n",
    "    model.add(backbone)\n",
    "    model.add(GlobalAveragePooling2D())\n",
    "    model.add(Dropout(0.25))\n",
    "#     model.add(BatchNormalization())\n",
    "    model.add(Dense(32, activation='relu'))\n",
    "    model.add(Dense(1, activation='softmax')) \n",
    "\n",
    "    optimizer = Adam(learning_rate=0.0001)\n",
    "    model.compile(optimizer=optimizer, loss = \"binary_crossentropy\",\n",
    "                  metrics=['accuracy'])\n",
    "\n",
    "    return model"
   ]
  },
  {
   "cell_type": "code",
   "execution_count": 31,
   "id": "7b2dac0a",
   "metadata": {},
   "outputs": [],
   "source": [
    "def create_model(input_shape):\n",
    "    model = Sequential()\n",
    "#     model.add(layers.Reshape((96, 96, 2), input_shape=input_shape))\n",
    "    model.add(Conv2D(64, (3, 3), padding='same', input_shape=input_shape))\n",
    "    model.add(Activation('relu'))\n",
    "    model.add(Conv2D(32, (3, 3)))\n",
    "    model.add(Activation('relu'))\n",
    "    model.add(MaxPooling2D(pool_size=(2, 2)))\n",
    "    model.add(Dropout(0.25))\n",
    "#     model.add(BatchNormalization())\n",
    "    model.add(MaxPooling2D(pool_size=(2, 2)))\n",
    "    model.add(Dropout(0.25))\n",
    "#     model.add(BatchNormalization())\n",
    "    model.add(Flatten())    \n",
    "    model.add(Dense(10))\n",
    "    model.add(Activation('relu'))\n",
    "    model.add(Dropout(0.5))\n",
    "#     model.add(BatchNormalization())\n",
    "    model.add(Dense(1, activation='softmax'))\n",
    "    \n",
    "    optimizer = Adam(learning_rate=0.0001)\n",
    "    \n",
    "    model.compile(optimizer, loss = \"categorical_crossentropy\",\n",
    "                  metrics=['accuracy'])\n",
    "    return model"
   ]
  },
  {
   "cell_type": "code",
   "execution_count": 39,
   "id": "c98c9905",
   "metadata": {},
   "outputs": [],
   "source": [
    "# def train_model(model, train_data, test_data, batch_size=None, epochs=30,\n",
    "#                 steps_per_epoch=None, validation_steps=None):\n",
    "\n",
    "#     if steps_per_epoch is None:\n",
    "#         steps_per_epoch = len(train_data)\n",
    "#     if validation_steps is None:\n",
    "#         validation_steps = len(test_data)\n",
    "\n",
    "#     model.fit(train_data,\n",
    "#               validation_data=test_data,\n",
    "#               batch_size=batch_size,\n",
    "#               epochs=epochs,\n",
    "#               steps_per_epoch=steps_per_epoch,\n",
    "#               validation_steps=validation_steps,\n",
    "#               verbose=2)\n",
    "\n",
    "#     return model"
   ]
  },
  {
   "cell_type": "code",
   "execution_count": 40,
   "id": "7324dbce",
   "metadata": {},
   "outputs": [],
   "source": [
    "input_shape = (96, 96, 3)"
   ]
  },
  {
   "cell_type": "code",
   "execution_count": 42,
   "id": "bb8aa4dd",
   "metadata": {},
   "outputs": [],
   "source": [
    "STEP_SIZE_TRAIN=train.n//train.batch_size\n",
    "STEP_SIZE_VALID=valid.n//valid.batch_size"
   ]
  },
  {
   "cell_type": "markdown",
   "id": "0e13a44e",
   "metadata": {},
   "source": [
    "- Model 1"
   ]
  },
  {
   "cell_type": "code",
   "execution_count": 41,
   "id": "6b7d56e4",
   "metadata": {
    "scrolled": true
   },
   "outputs": [],
   "source": [
    "# Initiating the model\n",
    "model = create_model(input_shape)"
   ]
  },
  {
   "cell_type": "code",
   "execution_count": 43,
   "id": "bbcd4bee",
   "metadata": {},
   "outputs": [],
   "source": [
    "# %%time\n",
    "# # training the model\n",
    "# history = train_model(model, \n",
    "#                         train,\n",
    "#                         valid, \n",
    "#                         batch_size=5, \n",
    "#                         epochs=5, \n",
    "#                         steps_per_epoch=STEP_SIZE_TRAIN, \n",
    "#                         validation_steps=STEP_SIZE_VALID)"
   ]
  },
  {
   "cell_type": "code",
   "execution_count": 44,
   "id": "eaf3a6eb",
   "metadata": {},
   "outputs": [
    {
     "name": "stdout",
     "output_type": "stream",
     "text": [
      "Model: \"sequential_1\"\n",
      "_________________________________________________________________\n",
      " Layer (type)                Output Shape              Param #   \n",
      "=================================================================\n",
      " conv2d_2 (Conv2D)           (None, 96, 96, 64)        1792      \n",
      "                                                                 \n",
      " activation_3 (Activation)   (None, 96, 96, 64)        0         \n",
      "                                                                 \n",
      " conv2d_3 (Conv2D)           (None, 94, 94, 32)        18464     \n",
      "                                                                 \n",
      " activation_4 (Activation)   (None, 94, 94, 32)        0         \n",
      "                                                                 \n",
      " max_pooling2d_2 (MaxPooling  (None, 47, 47, 32)       0         \n",
      " 2D)                                                             \n",
      "                                                                 \n",
      " dropout_3 (Dropout)         (None, 47, 47, 32)        0         \n",
      "                                                                 \n",
      " max_pooling2d_3 (MaxPooling  (None, 23, 23, 32)       0         \n",
      " 2D)                                                             \n",
      "                                                                 \n",
      " dropout_4 (Dropout)         (None, 23, 23, 32)        0         \n",
      "                                                                 \n",
      " flatten_1 (Flatten)         (None, 16928)             0         \n",
      "                                                                 \n",
      " dense_2 (Dense)             (None, 10)                169290    \n",
      "                                                                 \n",
      " activation_5 (Activation)   (None, 10)                0         \n",
      "                                                                 \n",
      " dropout_5 (Dropout)         (None, 10)                0         \n",
      "                                                                 \n",
      " dense_3 (Dense)             (None, 1)                 11        \n",
      "                                                                 \n",
      "=================================================================\n",
      "Total params: 189,557\n",
      "Trainable params: 189,557\n",
      "Non-trainable params: 0\n",
      "_________________________________________________________________\n"
     ]
    }
   ],
   "source": [
    "model.summary()"
   ]
  },
  {
   "cell_type": "code",
   "execution_count": null,
   "id": "5557ce46",
   "metadata": {},
   "outputs": [
    {
     "name": "stdout",
     "output_type": "stream",
     "text": [
      "Epoch 1/10\n",
      "62/62 - 63s - loss: 0.0000e+00 - accuracy: 0.4863 - val_loss: 0.0000e+00 - val_accuracy: 0.4922 - 63s/epoch - 1s/step\n",
      "Epoch 2/10\n",
      "62/62 - 66s - loss: 0.0000e+00 - accuracy: 0.4842 - val_loss: 0.0000e+00 - val_accuracy: 0.4906 - 66s/epoch - 1s/step\n",
      "Epoch 3/10\n",
      "62/62 - 63s - loss: 0.0000e+00 - accuracy: 0.4852 - val_loss: 0.0000e+00 - val_accuracy: 0.4953 - 63s/epoch - 1s/step\n",
      "Epoch 4/10\n",
      "62/62 - 60s - loss: 0.0000e+00 - accuracy: 0.4839 - val_loss: 0.0000e+00 - val_accuracy: 0.4922 - 60s/epoch - 975ms/step\n",
      "Epoch 5/10\n",
      "62/62 - 63s - loss: 0.0000e+00 - accuracy: 0.4863 - val_loss: 0.0000e+00 - val_accuracy: 0.4906 - 63s/epoch - 1s/step\n",
      "Epoch 6/10\n",
      "62/62 - 62s - loss: 0.0000e+00 - accuracy: 0.4852 - val_loss: 0.0000e+00 - val_accuracy: 0.4891 - 62s/epoch - 998ms/step\n",
      "Epoch 7/10\n"
     ]
    }
   ],
   "source": [
    "%%time\n",
    "history = model.fit_generator(train,\n",
    "          validation_data=valid,\n",
    "          epochs=10,\n",
    "          steps_per_epoch=STEP_SIZE_TRAIN,\n",
    "          validation_steps=STEP_SIZE_VALID,\n",
    "          verbose=2)"
   ]
  },
  {
   "cell_type": "markdown",
   "id": "86ed3ad7",
   "metadata": {},
   "source": [
    "- Model 2"
   ]
  },
  {
   "cell_type": "code",
   "execution_count": null,
   "id": "b14115d1",
   "metadata": {},
   "outputs": [],
   "source": [
    "# Initiating the model\n",
    "model2 = create_model_ResNet50(input_shape)"
   ]
  },
  {
   "cell_type": "code",
   "execution_count": null,
   "id": "d793a712",
   "metadata": {
    "scrolled": false
   },
   "outputs": [],
   "source": [
    "# %%time\n",
    "# # training the model\n",
    "# history2 = train_model(model2, \n",
    "#                              train, \n",
    "#                              valid, \n",
    "#                              batch_size=5, \n",
    "#                              epochs=5, \n",
    "#                              steps_per_epoch=None, \n",
    "#                              validation_steps=None)"
   ]
  },
  {
   "cell_type": "code",
   "execution_count": null,
   "id": "8ec0bd93",
   "metadata": {
    "scrolled": true
   },
   "outputs": [],
   "source": [
    "model2.summary()"
   ]
  },
  {
   "cell_type": "code",
   "execution_count": null,
   "id": "86a1a079",
   "metadata": {},
   "outputs": [],
   "source": [
    "%%time\n",
    "history2 = model2.fit_generator(train,\n",
    "          validation_data=valid,\n",
    "          epochs=10,\n",
    "                batch_size=16,\n",
    "          steps_per_epoch=STEP_SIZE_TRAIN,\n",
    "          validation_steps=STEP_SIZE_VALID,\n",
    "          verbose=2)"
   ]
  },
  {
   "cell_type": "markdown",
   "id": "9f6d4b1b",
   "metadata": {},
   "source": [
    "- Model 3"
   ]
  },
  {
   "cell_type": "code",
   "execution_count": null,
   "id": "809fc20a",
   "metadata": {},
   "outputs": [],
   "source": [
    "# Ruba's CNN\n",
    "def create_model_3(input_shape):\n",
    "    model = Sequential()\n",
    "\n",
    "    model.add(Conv2D(32, kernel_size=(2, 2), activation ='relu', input_shape=input_shape))\n",
    "    model.add(MaxPooling2D(pool_size=(2, 2)))\n",
    "    model.add(BatchNormalization()) # added\n",
    "    model.add(Conv2D(64, kernel_size = (2,2), activation ='relu'))\n",
    "    model.add(MaxPooling2D(pool_size=(2,2)))\n",
    "    model.add(BatchNormalization()) # added\n",
    "    model.add(Flatten())\n",
    "    model.add(Dense(64, activation='relu'))\n",
    "    model.add(BatchNormalization())\n",
    "    model.add(Dense(1, activation='sigmoid'))\n",
    "\n",
    "    optimizer = Adam(learning_rate=0.0001) # updated to lr=0.0001\n",
    "\n",
    "    model.compile(loss = \"binary_crossentropy\", \n",
    "              optimizer=optimizer, metrics=['accuracy'])\n",
    "    return model"
   ]
  },
  {
   "cell_type": "code",
   "execution_count": null,
   "id": "45b32c95",
   "metadata": {},
   "outputs": [],
   "source": [
    "# Initiating the model\n",
    "model3 = create_model_3(input_shape)"
   ]
  },
  {
   "cell_type": "code",
   "execution_count": null,
   "id": "9cd9ff1e",
   "metadata": {},
   "outputs": [],
   "source": [
    "# # training the model\n",
    "# model_3 = train_model(model_3, \n",
    "#                         train,\n",
    "#                         valid, \n",
    "#                         batch_size=32, \n",
    "#                         epochs=50, \n",
    "#                         steps_per_epoch=STEP_SIZE_TRAIN, \n",
    "#                         validation_steps=STEP_SIZE_VALID)"
   ]
  },
  {
   "cell_type": "code",
   "execution_count": null,
   "id": "446acf71",
   "metadata": {},
   "outputs": [],
   "source": [
    "model.summary()"
   ]
  },
  {
   "cell_type": "code",
   "execution_count": null,
   "id": "7f13b394",
   "metadata": {},
   "outputs": [],
   "source": [
    "%%time\n",
    "history3 = model3.fit_generator(train,\n",
    "          validation_data=valid,\n",
    "          epochs=30,\n",
    "                                batch_size=16,\n",
    "          steps_per_epoch=STEP_SIZE_TRAIN,\n",
    "          validation_steps=STEP_SIZE_VALID,\n",
    "          verbose=2)"
   ]
  },
  {
   "cell_type": "markdown",
   "id": "8266cf95",
   "metadata": {},
   "source": [
    "- Model 4"
   ]
  },
  {
   "cell_type": "code",
   "execution_count": null,
   "id": "e328b139",
   "metadata": {},
   "outputs": [],
   "source": [
    "def create_model_4(input_shape):\n",
    "    model = Sequential()\n",
    "    model.add(Conv2D(32, (3, 3),\n",
    "                     input_shape=input_shape))\n",
    "    model.add(Activation('relu'))\n",
    "    model.add(MaxPooling2D(pool_size=(2, 2)))\n",
    "    model.add(Dropout(0.25))\n",
    "    model.add(Conv2D(64, (3, 3)))\n",
    "#     model.add(Activation('relu'))\n",
    "#     model.add(Conv2D(128, (3, 3)))\n",
    "    model.add(Activation('relu'))\n",
    "    model.add(MaxPooling2D(pool_size=(2, 2)))\n",
    "    model.add(BatchNormalization()) # added\n",
    "    model.add(Dropout(0.25))\n",
    "\n",
    "    model.add(Flatten())\n",
    "\n",
    "    model.add(Dense(1, activation='softmax'))\n",
    "\n",
    "    optimizer = Adam(learning_rate=0.0001) # updated to lr=0.0001\n",
    "    model.compile(optimizer=optimizer, \n",
    "                  loss=\"binary_crossentropy\", \n",
    "              metrics=[\"accuracy\"])\n",
    "    return model"
   ]
  },
  {
   "cell_type": "code",
   "execution_count": null,
   "id": "d7f550eb",
   "metadata": {
    "scrolled": true
   },
   "outputs": [],
   "source": [
    "%%time\n",
    "# Initiating the model\n",
    "model4 = create_model_4(input_shape)\n",
    "\n",
    "# # training the model\n",
    "# model_4 = train_model(model_4, \n",
    "#                         train,\n",
    "#                         valid, \n",
    "#                         batch_size=16, \n",
    "#                         epochs=3, \n",
    "#                         steps_per_epoch=STEP_SIZE_TRAIN, \n",
    "#                         validation_steps=STEP_SIZE_VALID)"
   ]
  },
  {
   "cell_type": "code",
   "execution_count": null,
   "id": "8eaad00d",
   "metadata": {
    "scrolled": false
   },
   "outputs": [],
   "source": [
    "model4.summary()"
   ]
  },
  {
   "cell_type": "code",
   "execution_count": null,
   "id": "734bff41",
   "metadata": {},
   "outputs": [],
   "source": [
    "history4 = model4.fit_generator(train,\n",
    "          validation_data=valid,\n",
    "          epochs=30,\n",
    "                                batch_size=16,\n",
    "          steps_per_epoch=STEP_SIZE_TRAIN,\n",
    "          validation_steps=STEP_SIZE_VALID,\n",
    "          verbose=2)"
   ]
  },
  {
   "cell_type": "markdown",
   "id": "88d0dc9e",
   "metadata": {},
   "source": [
    "- Model 5"
   ]
  },
  {
   "cell_type": "code",
   "execution_count": null,
   "id": "1f56dea7",
   "metadata": {},
   "outputs": [],
   "source": [
    "def create_model_5(input_shape):\n",
    "    model = Sequential()\n",
    "    model.add(Conv2D(32, (3, 3), padding='same', input_shape=input_shape))\n",
    "    model.add(Activation('relu'))\n",
    "    \n",
    "    model.add(Conv2D(32, (3, 3)))\n",
    "    model.add(Activation('relu'))\n",
    "    model.add(MaxPooling2D(pool_size=(2, 2)))\n",
    "    model.add(Dropout(0.25))\n",
    "    \n",
    "    model.add(BatchNormalization()) # added\n",
    "    \n",
    "#     model.add(Conv2D(64, (3, 3), padding='same'))\n",
    "#     model.add(Activation('relu'))\n",
    "    \n",
    "    model.add(Conv2D(64, (3, 3)))\n",
    "    model.add(Activation('relu'))\n",
    "    model.add(MaxPooling2D(pool_size=(2, 2)))\n",
    "    \n",
    "    model.add(Dropout(0.25)) # regularization\n",
    "    model.add(BatchNormalization()) # added\n",
    "\n",
    "    model.add(Flatten())\n",
    "\n",
    "    model.add(Dense(1, activation='sigmoid'))\n",
    "\n",
    "    model.compile(optimizer='Adamax', \n",
    "                  loss=\"binary_crossentropy\", \n",
    "              metrics=[\"accuracy\"])\n",
    "    return model"
   ]
  },
  {
   "cell_type": "code",
   "execution_count": null,
   "id": "84926ec6",
   "metadata": {},
   "outputs": [],
   "source": [
    "# Initiating the model\n",
    "model5 = create_model_5(input_shape)\n",
    "\n",
    "# # training the model\n",
    "# model5 = train_model(model_5, \n",
    "#                         train,\n",
    "#                         valid, \n",
    "#                         batch_size=32, \n",
    "#                         epochs=50, \n",
    "#                         steps_per_epoch=STEP_SIZE_TRAIN, \n",
    "#                         validation_steps=STEP_SIZE_VALID)"
   ]
  },
  {
   "cell_type": "code",
   "execution_count": null,
   "id": "f5b6c69a",
   "metadata": {
    "scrolled": true
   },
   "outputs": [],
   "source": [
    "model5.summary()"
   ]
  },
  {
   "cell_type": "code",
   "execution_count": null,
   "id": "1e62c4c3",
   "metadata": {},
   "outputs": [],
   "source": [
    "history5 = model5.fit_generator(train,\n",
    "          validation_data=valid,\n",
    "          epochs=30,\n",
    "                                batch_size=16,\n",
    "          steps_per_epoch=STEP_SIZE_TRAIN,\n",
    "          validation_steps=STEP_SIZE_VALID,\n",
    "          verbose=2)"
   ]
  },
  {
   "cell_type": "markdown",
   "id": "7a85b0d8",
   "metadata": {},
   "source": [
    "## 3 Choosing the best CNN model"
   ]
  },
  {
   "cell_type": "code",
   "execution_count": 425,
   "id": "26240086",
   "metadata": {},
   "outputs": [],
   "source": [
    "# plt.plot(model.history['val_loss'], 'r', \n",
    "#          model1.history['val_loss'], 'b', \n",
    "#          model2.history['val_loss'], 'g', \n",
    "#          model3.history['val_loss'], 'darkred', \n",
    "#          model4.history['val_loss'], 'darkblue', \n",
    "#          model5.history['val_loss'], 'orange')"
   ]
  },
  {
   "cell_type": "markdown",
   "id": "9c4e815d",
   "metadata": {},
   "source": [
    "- Model 1 - ResNet50"
   ]
  },
  {
   "cell_type": "code",
   "execution_count": 412,
   "id": "ccadff60",
   "metadata": {},
   "outputs": [
    {
     "ename": "TypeError",
     "evalue": "'History' object is not subscriptable",
     "output_type": "error",
     "traceback": [
      "\u001b[0;31m---------------------------------------------------------------------------\u001b[0m",
      "\u001b[0;31mTypeError\u001b[0m                                 Traceback (most recent call last)",
      "Cell \u001b[0;32mIn[412], line 6\u001b[0m\n\u001b[1;32m      3\u001b[0m f\u001b[38;5;241m.\u001b[39msubplots_adjust(top\u001b[38;5;241m=\u001b[39m\u001b[38;5;241m0.85\u001b[39m, wspace\u001b[38;5;241m=\u001b[39m\u001b[38;5;241m0.3\u001b[39m)\n\u001b[1;32m      5\u001b[0m epoch_list \u001b[38;5;241m=\u001b[39m \u001b[38;5;28mlist\u001b[39m(\u001b[38;5;28mrange\u001b[39m(\u001b[38;5;241m0\u001b[39m, \u001b[38;5;241m10\u001b[39m))\n\u001b[0;32m----> 6\u001b[0m ax1\u001b[38;5;241m.\u001b[39mplot(epoch_list, \u001b[43mmodel\u001b[49m\u001b[38;5;241;43m.\u001b[39;49m\u001b[43mhistory\u001b[49m\u001b[43m[\u001b[49m\u001b[38;5;124;43m'\u001b[39;49m\u001b[38;5;124;43maccuracy\u001b[39;49m\u001b[38;5;124;43m'\u001b[39;49m\u001b[43m]\u001b[49m, label\u001b[38;5;241m=\u001b[39m\u001b[38;5;124m'\u001b[39m\u001b[38;5;124mTrain Accuracy\u001b[39m\u001b[38;5;124m'\u001b[39m)\n\u001b[1;32m      7\u001b[0m ax1\u001b[38;5;241m.\u001b[39mplot(epoch_list, model\u001b[38;5;241m.\u001b[39mhistory[\u001b[38;5;124m'\u001b[39m\u001b[38;5;124mval_accuracy\u001b[39m\u001b[38;5;124m'\u001b[39m], label\u001b[38;5;241m=\u001b[39m\u001b[38;5;124m'\u001b[39m\u001b[38;5;124mValidation Accuracy\u001b[39m\u001b[38;5;124m'\u001b[39m)\n\u001b[1;32m      9\u001b[0m ax1\u001b[38;5;241m.\u001b[39mset_xticks(np\u001b[38;5;241m.\u001b[39marange(\u001b[38;5;241m0\u001b[39m, \u001b[38;5;241m10\u001b[39m, \u001b[38;5;241m1\u001b[39m))\n",
      "\u001b[0;31mTypeError\u001b[0m: 'History' object is not subscriptable"
     ]
    },
    {
     "data": {
      "image/png": "[encoded data removed]",
      "text/plain": [
       "<Figure size 1200x400 with 2 Axes>"
      ]
     },
     "metadata": {},
     "output_type": "display_data"
    }
   ],
   "source": [
    "f, (ax1, ax2) = plt.subplots(1, 2, figsize=(12, 4))\n",
    "t = f.suptitle('Basic ResNet50 CNN Performance', fontsize=12)\n",
    "f.subplots_adjust(top=0.85, wspace=0.3)\n",
    "\n",
    "epoch_list = list(range(0, 10))\n",
    "ax1.plot(epoch_list, model.history['accuracy'], label='Train Accuracy')\n",
    "ax1.plot(epoch_list, model.history['val_accuracy'], label='Validation Accuracy')\n",
    "\n",
    "ax1.set_xticks(np.arange(0, 10, 1))\n",
    "ax1.set_ylabel('Accuracy Value')\n",
    "ax1.set_xlabel('Epoch')\n",
    "ax1.set_title('Accuracy')\n",
    "l1 = ax1.legend(loc=\"best\")\n",
    "\n",
    "ax2.plot(epoch_list, model.history['loss'], label='Train Loss')\n",
    "ax2.plot(epoch_list, model.history['val_loss'], label='Validation Loss')\n",
    "ax2.set_xticks(np.arange(0, 10, 1))\n",
    "ax2.set_ylabel('Loss Value')\n",
    "ax2.set_xlabel('Epoch')\n",
    "ax2.set_title('Loss')\n",
    "l2 = ax2.legend(loc=\"best\")"
   ]
  },
  {
   "cell_type": "markdown",
   "id": "87b8f3de",
   "metadata": {},
   "source": [
    "- Model 2 CNN"
   ]
  },
  {
   "cell_type": "code",
   "execution_count": 38,
   "id": "43e4af84",
   "metadata": {},
   "outputs": [
    {
     "ename": "TypeError",
     "evalue": "'History' object is not subscriptable",
     "output_type": "error",
     "traceback": [
      "\u001b[0;31m---------------------------------------------------------------------------\u001b[0m",
      "\u001b[0;31mTypeError\u001b[0m                                 Traceback (most recent call last)",
      "Cell \u001b[0;32mIn[38], line 7\u001b[0m\n\u001b[1;32m      3\u001b[0m f\u001b[38;5;241m.\u001b[39msubplots_adjust(top\u001b[38;5;241m=\u001b[39m\u001b[38;5;241m0.85\u001b[39m, wspace\u001b[38;5;241m=\u001b[39m\u001b[38;5;241m0.3\u001b[39m)\n\u001b[1;32m      5\u001b[0m epoch_list \u001b[38;5;241m=\u001b[39m \u001b[38;5;28mlist\u001b[39m(\u001b[38;5;28mrange\u001b[39m(\u001b[38;5;241m0\u001b[39m, \u001b[38;5;241m5\u001b[39m))\n\u001b[0;32m----> 7\u001b[0m ax1\u001b[38;5;241m.\u001b[39mplot(epoch_list, \u001b[43mhistory\u001b[49m\u001b[38;5;241;43m.\u001b[39;49m\u001b[43mhistory\u001b[49m\u001b[43m[\u001b[49m\u001b[38;5;124;43m'\u001b[39;49m\u001b[38;5;124;43maccuracy\u001b[39;49m\u001b[38;5;124;43m'\u001b[39;49m\u001b[43m]\u001b[49m, label\u001b[38;5;241m=\u001b[39m\u001b[38;5;124m'\u001b[39m\u001b[38;5;124mTrain Accuracy\u001b[39m\u001b[38;5;124m'\u001b[39m)\n\u001b[1;32m      8\u001b[0m ax1\u001b[38;5;241m.\u001b[39mplot(epoch_list, history\u001b[38;5;241m.\u001b[39mhistory[\u001b[38;5;124m'\u001b[39m\u001b[38;5;124mval_accuracy\u001b[39m\u001b[38;5;124m'\u001b[39m], label\u001b[38;5;241m=\u001b[39m\u001b[38;5;124m'\u001b[39m\u001b[38;5;124mValidation Accuracy\u001b[39m\u001b[38;5;124m'\u001b[39m)\n\u001b[1;32m     10\u001b[0m ax1\u001b[38;5;241m.\u001b[39mset_xticks(np\u001b[38;5;241m.\u001b[39marange(\u001b[38;5;241m0\u001b[39m, \u001b[38;5;241m5\u001b[39m, \u001b[38;5;241m1\u001b[39m))\n",
      "\u001b[0;31mTypeError\u001b[0m: 'History' object is not subscriptable"
     ]
    },
    {
     "data": {
      "image/png": "[encoded data removed]",
      "text/plain": [
       "<Figure size 1200x400 with 2 Axes>"
      ]
     },
     "metadata": {},
     "output_type": "display_data"
    }
   ],
   "source": [
    "f, (ax1, ax2) = plt.subplots(1, 2, figsize=(12, 4))\n",
    "t = f.suptitle('Basic CNN Performance', fontsize=12)\n",
    "f.subplots_adjust(top=0.85, wspace=0.3)\n",
    "\n",
    "epoch_list = list(range(0, 5))\n",
    "\n",
    "ax1.plot(epoch_list, history.history['accuracy'], label='Train Accuracy')\n",
    "ax1.plot(epoch_list, history.history['val_accuracy'], label='Validation Accuracy')\n",
    "\n",
    "ax1.set_xticks(np.arange(0, 5, 1))\n",
    "ax1.set_ylabel('Accuracy Value')\n",
    "ax1.set_xlabel('Epoch')\n",
    "ax1.set_title('Accuracy')\n",
    "l1 = ax1.legend(loc=\"best\")\n",
    "\n",
    "ax2.plot(epoch_list, history.history['loss'], label='Train Loss')\n",
    "ax2.plot(epoch_list, history.history['val_loss'], label='Validation Loss')\n",
    "ax2.set_xticks(np.arange(0, 5, 1))\n",
    "ax2.set_ylabel('Loss Value')\n",
    "ax2.set_xlabel('Epoch')\n",
    "ax2.set_title('Loss')\n",
    "l2 = ax2.legend(loc=\"best\")"
   ]
  },
  {
   "cell_type": "code",
   "execution_count": null,
   "id": "9c292cf4",
   "metadata": {},
   "outputs": [],
   "source": []
  },
  {
   "cell_type": "code",
   "execution_count": 443,
   "id": "739ec6b8",
   "metadata": {},
   "outputs": [
    {
     "ename": "TypeError",
     "evalue": "'History' object is not subscriptable",
     "output_type": "error",
     "traceback": [
      "\u001b[0;31m---------------------------------------------------------------------------\u001b[0m",
      "\u001b[0;31mTypeError\u001b[0m                                 Traceback (most recent call last)",
      "Cell \u001b[0;32mIn[443], line 1\u001b[0m\n\u001b[0;32m----> 1\u001b[0m plt\u001b[38;5;241m.\u001b[39mplot(\u001b[43mmodel_4\u001b[49m\u001b[38;5;241;43m.\u001b[39;49m\u001b[43mhistory\u001b[49m\u001b[43m[\u001b[49m\u001b[38;5;124;43m'\u001b[39;49m\u001b[38;5;124;43maccuracy\u001b[39;49m\u001b[38;5;124;43m'\u001b[39;49m\u001b[43m]\u001b[49m, label\u001b[38;5;241m=\u001b[39m\u001b[38;5;124m'\u001b[39m\u001b[38;5;124macc\u001b[39m\u001b[38;5;124m'\u001b[39m, color\u001b[38;5;241m=\u001b[39m\u001b[38;5;124m'\u001b[39m\u001b[38;5;124mred\u001b[39m\u001b[38;5;124m'\u001b[39m)\n\u001b[1;32m      2\u001b[0m plt\u001b[38;5;241m.\u001b[39mplot(model_4\u001b[38;5;241m.\u001b[39mhistory[\u001b[38;5;124m'\u001b[39m\u001b[38;5;124mval_accuracy\u001b[39m\u001b[38;5;124m'\u001b[39m], label\u001b[38;5;241m=\u001b[39m\u001b[38;5;124m'\u001b[39m\u001b[38;5;124mval_acc\u001b[39m\u001b[38;5;124m'\u001b[39m, color\u001b[38;5;241m=\u001b[39m\u001b[38;5;124m'\u001b[39m\u001b[38;5;124mdarkblue\u001b[39m\u001b[38;5;124m'\u001b[39m)\n\u001b[1;32m      3\u001b[0m plt\u001b[38;5;241m.\u001b[39mlegend()\n",
      "\u001b[0;31mTypeError\u001b[0m: 'History' object is not subscriptable"
     ]
    }
   ],
   "source": [
    "plt.plot(model_4.history['accuracy'], label='acc', color='red')\n",
    "plt.plot(model_4.history['val_accuracy'], label='val_acc', color='darkblue')\n",
    "plt.legend()"
   ]
  },
  {
   "cell_type": "code",
   "execution_count": null,
   "id": "48e8f4a3",
   "metadata": {},
   "outputs": [],
   "source": []
  }
 ],
 "metadata": {
  "kernelspec": {
   "display_name": "Python 3 (ipykernel)",
   "language": "python",
   "name": "python3"
  },
  "language_info": {
   "codemirror_mode": {
    "name": "ipython",
    "version": 3
   },
   "file_extension": ".py",
   "mimetype": "text/x-python",
   "name": "python",
   "nbconvert_exporter": "python",
   "pygments_lexer": "ipython3",
   "version": "3.10.9"
  }
 },
 "nbformat": 4,
 "nbformat_minor": 5
}
